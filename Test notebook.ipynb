{
 "cells": [
  {
   "cell_type": "code",
   "execution_count": 4,
   "id": "prepared-verse",
   "metadata": {},
   "outputs": [],
   "source": [
    "import torch\n",
    "import torch.nn as nn\n",
    "import torch.optim as optim\n",
    "\n",
    "import torchtext\n",
    "from torchtext.datasets import IWSLT\n",
    "\n",
    "from torchtext.data import Field\n",
    "\n",
    "\n",
    "import spacy"
   ]
  },
  {
   "cell_type": "code",
   "execution_count": 2,
   "id": "combined-magazine",
   "metadata": {},
   "outputs": [
    {
     "name": "stdout",
     "output_type": "stream",
     "text": [
      "✔ Download and installation successful\n",
      "You can now load the model via spacy.load('en_core_web_sm')\n",
      "✔ Download and installation successful\n",
      "You can now load the model via spacy.load('de_core_news_sm')\n"
     ]
    }
   ],
   "source": [
    "import spacy.cli\n",
    "import en_core_web_sm\n",
    "import de_core_news_sm\n",
    "\n",
    "\n",
    "spacy.cli.download(\"en_core_web_sm\")\n",
    "spacy.cli.download(\"de_core_news_sm\")\n",
    "\n",
    "spacy_de = de_core_news_sm.load()\n",
    "spacy_english = en_core_web_sm.load()"
   ]
  },
  {
   "cell_type": "code",
   "execution_count": 5,
   "id": "acting-comfort",
   "metadata": {},
   "outputs": [],
   "source": [
    "def tokenizer_de(text):\n",
    "    return [tok.text for tok in spacy_de.tokenizer(text)]\n",
    "\n",
    "def tokenizer_en(text):\n",
    "    return [tok.text for tok in spacy_english.tokenizer(text)]\n",
    "\n",
    "\n",
    "de_lang = Field(tokenize=tokenizer_de, lower=True, include_lengths=True)\n",
    "en_lang = Field(tokenize=tokenizer_en, lower=True, init_token=\"<sos>\", eos_token=\"<eos>\", include_lengths=True)"
   ]
  },
  {
   "cell_type": "code",
   "execution_count": 6,
   "id": "rough-cleanup",
   "metadata": {},
   "outputs": [
    {
     "name": "stdout",
     "output_type": "stream",
     "text": [
      "Torchtext version: 0.6.0 \n"
     ]
    }
   ],
   "source": [
    "print(\"Torchtext version: %s \" % (torchtext.__version__))"
   ]
  },
  {
   "cell_type": "code",
   "execution_count": 7,
   "id": "binary-nylon",
   "metadata": {},
   "outputs": [],
   "source": [
    "#No further downloading needed\n",
    "#Make sure the iwslt folder is placed under .data/ directory\n",
    "train_data, valid_data, test_data = IWSLT.splits(\n",
    "        exts=(\".de\", \".en\"), fields=(de_lang, en_lang))"
   ]
  },
  {
   "cell_type": "code",
   "execution_count": 10,
   "id": "flying-values",
   "metadata": {},
   "outputs": [
    {
     "data": {
      "text/plain": [
       "196884"
      ]
     },
     "execution_count": 10,
     "metadata": {},
     "output_type": "execute_result"
    }
   ],
   "source": [
    "len(train_data)"
   ]
  },
  {
   "cell_type": "code",
   "execution_count": 9,
   "id": "absent-nerve",
   "metadata": {},
   "outputs": [
    {
     "data": {
      "text/plain": [
       "['wenn',\n",
       " 'man',\n",
       " 'darüber',\n",
       " 'nachdenkt',\n",
       " ',',\n",
       " 'machen',\n",
       " 'die',\n",
       " 'ozeane',\n",
       " '75',\n",
       " '%',\n",
       " 'des',\n",
       " 'planeten',\n",
       " 'aus',\n",
       " '.']"
      ]
     },
     "execution_count": 9,
     "metadata": {},
     "output_type": "execute_result"
    }
   ],
   "source": [
    "train_data[5].src"
   ]
  }
 ],
 "metadata": {
  "kernelspec": {
   "display_name": "Python 3",
   "language": "python",
   "name": "python3"
  },
  "language_info": {
   "codemirror_mode": {
    "name": "ipython",
    "version": 3
   },
   "file_extension": ".py",
   "mimetype": "text/x-python",
   "name": "python",
   "nbconvert_exporter": "python",
   "pygments_lexer": "ipython3",
   "version": "3.9.1"
  }
 },
 "nbformat": 4,
 "nbformat_minor": 5
}
